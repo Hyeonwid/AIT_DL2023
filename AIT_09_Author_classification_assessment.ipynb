{
  "nbformat": 4,
  "nbformat_minor": 0,
  "metadata": {
    "kernelspec": {
      "display_name": "Python 3",
      "language": "python",
      "name": "python3"
    },
    "language_info": {
      "codemirror_mode": {
        "name": "ipython",
        "version": 3
      },
      "file_extension": ".py",
      "mimetype": "text/x-python",
      "name": "python",
      "nbconvert_exporter": "python",
      "pygments_lexer": "ipython3",
      "version": "3.6.6"
    },
    "colab": {
      "provenance": [],
      "include_colab_link": true
    }
  },
  "cells": [
    {
      "cell_type": "markdown",
      "metadata": {
        "id": "view-in-github",
        "colab_type": "text"
      },
      "source": [
        "<a href=\"https://colab.research.google.com/github/Hyeonwid/AIT_DL2023/blob/main/AIT_09_Author_classification_assessment.ipynb\" target=\"_parent\"><img src=\"https://colab.research.google.com/assets/colab-badge.svg\" alt=\"Open In Colab\"/></a>"
      ]
    },
    {
      "cell_type": "markdown",
      "metadata": {
        "id": "_jiGtJu6u9ml"
      },
      "source": [
        "# Copyright\n",
        "\n",
        "<PRE>\n",
        "Copyright (c) 2023 Bálint Gyires-Tóth - All Rights Reserved\n",
        "You may use and modify this code for research and development purpuses.\n",
        "Use this code for educational purposes (self-paced or instructor led) without the permission of the author is prohibited.\n",
        "</PRE>"
      ]
    },
    {
      "cell_type": "markdown",
      "metadata": {
        "id": "oXyFC44jV-PP"
      },
      "source": [
        "# Author classification\n",
        "The task is to train a 1D CNN or an LSTM that is able to  classify text from two authors. The final model should be able to tell about a text with a given length (e.g. 60 characters) who wrote it. \n",
        "\n",
        "Please write the codes according to the following parts:"
      ]
    },
    {
      "cell_type": "markdown",
      "metadata": {
        "id": "jCnLoeGrHXsp"
      },
      "source": [
        "## Python module imports\n",
        "Import all Python modules that you would need during the Assignment."
      ]
    },
    {
      "cell_type": "code",
      "metadata": {
        "id": "7itbFGt3HXVT"
      },
      "source": [
        "import numpy as np\n",
        "import pandas as pd\n",
        "from sklearn.model_selection import train_test_split\n",
        "from keras.preprocessing.text import Tokenizer\n",
        "from keras.models import Sequential\n",
        "from keras.layers import Embedding, LSTM, Dense\n",
        "from sklearn.metrics import confusion_matrix\n",
        "import seaborn as sns\n",
        "import matplotlib.pyplot as plt"
      ],
      "execution_count": 15,
      "outputs": []
    },
    {
      "cell_type": "code",
      "source": [
        "from google.colab import drive\n",
        "drive.mount('/content/drive')"
      ],
      "metadata": {
        "id": "WX2xr3NBan3E",
        "outputId": "f576600a-b137-4ef4-a56b-2c6a92ef16bd",
        "colab": {
          "base_uri": "https://localhost:8080/"
        }
      },
      "execution_count": 16,
      "outputs": [
        {
          "output_type": "stream",
          "name": "stdout",
          "text": [
            "Drive already mounted at /content/drive; to attempt to forcibly remount, call drive.mount(\"/content/drive\", force_remount=True).\n"
          ]
        }
      ]
    },
    {
      "cell_type": "markdown",
      "metadata": {
        "id": "Hr617tEpHd8R"
      },
      "source": [
        "## Data acquisition\n",
        "Seek a possible dataset, you can use any source, e.g.\n",
        "* http://www.gutenberg.org/\n",
        "* https://www.kaggle.com/datasets\n",
        "* https://paperswithcode.com/datasets\n",
        "* if you would like to learn Hungarian, than e.g. https://mek.oszk.hu/\n",
        "\n",
        "You can download the text by hand (e.g. by copy-pasting some parts into txt files) or with Python. "
      ]
    },
    {
      "cell_type": "code",
      "metadata": {
        "id": "NgkdQxHqHdZB",
        "outputId": "7d221e6a-6ce3-4f5f-a79a-c8229936ca11",
        "colab": {
          "base_uri": "https://localhost:8080/",
          "height": 35
        }
      },
      "source": [
        "with open(\"/content/drive/MyDrive/09dl/schopenhauer.txt\", \"r\") as f:\n",
        "    schope = f.read()\n",
        "    \n",
        "with open(\"/content/drive/MyDrive/09dl/aquinas.txt\", \"r\") as f:\n",
        "    aquinas = f.read()\n",
        "schope[0:100]"
      ],
      "execution_count": 17,
      "outputs": [
        {
          "output_type": "execute_result",
          "data": {
            "text/plain": [
              "'\\ufeff\"Why do philosophers differ so widely as to the first principles of\\nMorals, but agree respecting th'"
            ],
            "application/vnd.google.colaboratory.intrinsic+json": {
              "type": "string"
            }
          },
          "metadata": {},
          "execution_count": 17
        }
      ]
    },
    {
      "cell_type": "markdown",
      "source": [
        "## Data analysis\n",
        "Count the number of characters from both authors and display them on a plot (e.g. Seaborn's countplot)."
      ],
      "metadata": {
        "id": "U9Pmq91t3SRD"
      }
    },
    {
      "cell_type": "code",
      "source": [
        "schope = schope[0:15000]\n",
        "aquinas = aquinas[0:15000]"
      ],
      "metadata": {
        "id": "uRqGdn4F3Spk"
      },
      "execution_count": 18,
      "outputs": []
    },
    {
      "cell_type": "markdown",
      "metadata": {
        "id": "cHyE_ndGIblJ"
      },
      "source": [
        "## Data loading, labeling and preprocessing\n",
        "Load the data and convert the characters into one-hot encodings. Then load the data into a 3D NumPy array, with a shape of\n",
        "\n",
        "* (batch, sequence_length, alphabet_length)\n",
        "\n",
        "where sequence_length=60, and alphabet_length equals to the number of unique characters in both datasets. The sequences should be cut out from the complete dataset by sliding window. You should add 0 and 1 labels to the sequences, according to the author. \n",
        "\n",
        "Later you may change sequence_length to achieve better results!"
      ]
    },
    {
      "cell_type": "code",
      "metadata": {
        "id": "arooXt0WIb6x"
      },
      "source": [
        "alphabet = sorted(set(schope + aquinas))\n",
        "alphabet_length = len(alphabet)\n",
        "\n",
        "def sliding_window(text, window_size, step_size=1):\n",
        "    return [text[i:i + window_size] for i in range(0, len(text) - window_size, step_size)]\n",
        "char_to_index = {c: i for i, c in enumerate(alphabet)}\n",
        "\n",
        "sequence_length = 60\n",
        "\n",
        "author1_sequences = sliding_window(schope, sequence_length)\n",
        "author2_sequences = sliding_window(aquinas, sequence_length)\n",
        "\n",
        "one_hot_encoded_sequences = []\n",
        "for seq in author1_sequences + author2_sequences:\n",
        "    one_hot_encoded_seq = np.zeros((sequence_length, alphabet_length))\n",
        "    for i, char in enumerate(seq):\n",
        "        one_hot_encoded_seq[i, char_to_index[char]] = 1\n",
        "    one_hot_encoded_sequences.append(one_hot_encoded_seq)\n",
        "\n",
        "X = np.stack(one_hot_encoded_sequences)\n",
        "y = np.array([0] * len(author1_sequences) + [1] * len(author2_sequences))"
      ],
      "execution_count": 19,
      "outputs": []
    },
    {
      "cell_type": "markdown",
      "metadata": {
        "id": "lL1Mc8ibHnep"
      },
      "source": [
        "## Data splitting\n",
        "Split the data into train, validate and test sets. Make "
      ]
    },
    {
      "cell_type": "code",
      "metadata": {
        "id": "ELyG9XFUHrkB"
      },
      "source": [
        "X_train, X_test, y_train, y_test = train_test_split(X, y, test_size=0.2, random_state=42)"
      ],
      "execution_count": 20,
      "outputs": []
    },
    {
      "cell_type": "markdown",
      "metadata": {
        "id": "hA8U9tr7HrNQ"
      },
      "source": [
        "## Model definition\n",
        "Define a 1D CNN or an LSTM for the task. Compile the model with the correct loss function."
      ]
    },
    {
      "cell_type": "code",
      "metadata": {
        "id": "BT1V1s4kHuUe"
      },
      "source": [
        "model = Sequential()\n",
        "model.add(LSTM(64, input_shape=(sequence_length, alphabet_length), dropout=0.2, recurrent_dropout=0.2))\n",
        "model.add(Dense(1, activation='sigmoid'))\n",
        "\n",
        "model.compile(loss='binary_crossentropy', optimizer='adam', metrics=['accuracy'])"
      ],
      "execution_count": 21,
      "outputs": []
    },
    {
      "cell_type": "markdown",
      "metadata": {
        "id": "hWFb-nAMHuAI"
      },
      "source": [
        "## Model training\n",
        "Train the model and apply early stopping."
      ]
    },
    {
      "cell_type": "code",
      "metadata": {
        "id": "dvgKjqp3Hwkp",
        "outputId": "968b0be5-5e95-4003-9c04-cb63d1c029db",
        "colab": {
          "base_uri": "https://localhost:8080/"
        }
      },
      "source": [
        "\n",
        "epochs = 10\n",
        "batch_size = 32\n",
        "\n",
        "model.fit(X_train, y_train, batch_size=batch_size, epochs=epochs, validation_split=0.1)\n",
        "loss, accuracy = model.evaluate(X_test, y_test)\n",
        "\n"
      ],
      "execution_count": 22,
      "outputs": [
        {
          "output_type": "stream",
          "name": "stdout",
          "text": [
            "Epoch 1/10\n",
            "673/673 [==============================] - 80s 114ms/step - loss: 0.4451 - accuracy: 0.7894 - val_loss: 0.2702 - val_accuracy: 0.8837\n",
            "Epoch 2/10\n",
            "673/673 [==============================] - 74s 110ms/step - loss: 0.3175 - accuracy: 0.8644 - val_loss: 0.2025 - val_accuracy: 0.9226\n",
            "Epoch 3/10\n",
            "673/673 [==============================] - 74s 110ms/step - loss: 0.2500 - accuracy: 0.8969 - val_loss: 0.2246 - val_accuracy: 0.8996\n",
            "Epoch 4/10\n",
            "673/673 [==============================] - 74s 110ms/step - loss: 0.1913 - accuracy: 0.9245 - val_loss: 0.0841 - val_accuracy: 0.9783\n",
            "Epoch 5/10\n",
            "673/673 [==============================] - 74s 109ms/step - loss: 0.1423 - accuracy: 0.9453 - val_loss: 0.1272 - val_accuracy: 0.9389\n",
            "Epoch 6/10\n",
            "673/673 [==============================] - 74s 110ms/step - loss: 0.1256 - accuracy: 0.9516 - val_loss: 0.0417 - val_accuracy: 0.9891\n",
            "Epoch 7/10\n",
            "673/673 [==============================] - 74s 110ms/step - loss: 0.1035 - accuracy: 0.9618 - val_loss: 0.0520 - val_accuracy: 0.9812\n",
            "Epoch 8/10\n",
            "673/673 [==============================] - 74s 110ms/step - loss: 0.0800 - accuracy: 0.9712 - val_loss: 0.0372 - val_accuracy: 0.9858\n",
            "Epoch 9/10\n",
            "673/673 [==============================] - 74s 110ms/step - loss: 0.0699 - accuracy: 0.9753 - val_loss: 0.0160 - val_accuracy: 0.9962\n",
            "Epoch 10/10\n",
            "673/673 [==============================] - 74s 109ms/step - loss: 0.0606 - accuracy: 0.9800 - val_loss: 0.0125 - val_accuracy: 0.9958\n",
            "187/187 [==============================] - 3s 16ms/step - loss: 0.0137 - accuracy: 0.9956\n"
          ]
        }
      ]
    },
    {
      "cell_type": "markdown",
      "metadata": {
        "id": "0omw2XzSHwOo"
      },
      "source": [
        "## Evaluation on test data\n",
        "Evaluate the model on the test data in terms of loss and accuracy."
      ]
    },
    {
      "cell_type": "code",
      "metadata": {
        "id": "4bF3dQA1Hv_R",
        "outputId": "a7ed2bd4-1aa8-430b-b74c-5e0987909345",
        "colab": {
          "base_uri": "https://localhost:8080/"
        }
      },
      "source": [
        "loss, accuracy = model.evaluate(X_test, y_test)\n",
        "print(\"Test loss:\", loss)\n",
        "print(\"Test accuracy:\", accuracy)\n",
        "y_pred = (model.predict(X_test) > 0.5).astype(\"int32\")"
      ],
      "execution_count": 23,
      "outputs": [
        {
          "output_type": "stream",
          "name": "stdout",
          "text": [
            "187/187 [==============================] - 3s 16ms/step - loss: 0.0137 - accuracy: 0.9956\n",
            "Test loss: 0.013741531409323215\n",
            "Test accuracy: 0.9956492781639099\n",
            "187/187 [==============================] - 5s 24ms/step\n"
          ]
        }
      ]
    },
    {
      "cell_type": "markdown",
      "metadata": {
        "id": "4Y73Q-h5Hz1r"
      },
      "source": [
        "## Confusion matrix\n",
        "Calculate and display the confusion matrix."
      ]
    },
    {
      "cell_type": "code",
      "metadata": {
        "id": "cW8zZi1uJm2B",
        "outputId": "2190642d-7e80-48fb-de28-c688e1d6d591",
        "colab": {
          "base_uri": "https://localhost:8080/",
          "height": 451
        }
      },
      "source": [
        "cm = confusion_matrix(y_test, y_pred)\n",
        "sns.heatmap(cm, annot=True, fmt=\"d\", cmap=\"YlGnBu\", xticklabels=[\"Nietzsche\", \"Plato\"], yticklabels=[\"Nietzsche\", \"Plato\"])\n",
        "plt.xlabel(\"Predicted Label\")\n",
        "plt.ylabel(\"True Label\")\n",
        "plt.show()"
      ],
      "execution_count": 24,
      "outputs": [
        {
          "output_type": "display_data",
          "data": {
            "text/plain": [
              "<Figure size 640x480 with 2 Axes>"
            ],
            "image/png": "[encoded data removed]"
          },
          "metadata": {}
        }
      ]
    }
  ]
}